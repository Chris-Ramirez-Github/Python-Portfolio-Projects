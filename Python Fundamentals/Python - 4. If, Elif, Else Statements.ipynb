{
 "cells": [
  {
   "cell_type": "code",
   "execution_count": 1,
   "id": "e7a30ef2",
   "metadata": {},
   "outputs": [
    {
     "name": "stdout",
     "output_type": "stream",
     "text": [
      "It worked!\n"
     ]
    }
   ],
   "source": [
    "if 25 > 10:\n",
    "    print('It worked!')"
   ]
  },
  {
   "cell_type": "code",
   "execution_count": 12,
   "id": "daf9ee28",
   "metadata": {},
   "outputs": [
    {
     "name": "stdout",
     "output_type": "stream",
     "text": [
      "elif 3 worked!\n"
     ]
    }
   ],
   "source": [
    "j = 40\n",
    "\n",
    "if j < 10:\n",
    "    print('If worked')\n",
    "elif j < 20:\n",
    "    print('elif worked!')\n",
    "elif j < 30:\n",
    "    print('elif 1 worked!')\n",
    "elif j < 40:\n",
    "    print('elif 2 worked!')\n",
    "elif j < 50:\n",
    "    print('elif 3 worked!')\n",
    "else:\n",
    "    print('It did not work...')"
   ]
  },
  {
   "cell_type": "code",
   "execution_count": 15,
   "id": "fd3523b0",
   "metadata": {},
   "outputs": [
    {
     "name": "stdout",
     "output_type": "stream",
     "text": [
      "It did not work...\n"
     ]
    }
   ],
   "source": [
    "i = 10\n",
    "print('It worked!') if i > 30 else print('It did not work...')"
   ]
  },
  {
   "cell_type": "code",
   "execution_count": 18,
   "id": "22d7880c",
   "metadata": {},
   "outputs": [
    {
     "name": "stdout",
     "output_type": "stream",
     "text": [
      "It worked!\n",
      "This nested if statement worked!\n",
      "If worked!\n"
     ]
    }
   ],
   "source": [
    "j = 40\n",
    "\n",
    "if j < 10 or (1 < 3):\n",
    "    print('It worked!')\n",
    "    if 10 > 5:\n",
    "        print('This nested if statement worked!')\n",
    "    print('If worked!')\n",
    "elif j < 20:\n",
    "    print('elif worked!')\n",
    "elif j < 30:\n",
    "    print('elif 1 worked!')\n",
    "elif j < 40:\n",
    "    print('elif 2 worked!')\n",
    "elif j < 50:\n",
    "    print('elif 3 worked!')\n",
    "else:\n",
    "    print('It did not work...')"
   ]
  }
 ],
 "metadata": {
  "kernelspec": {
   "display_name": "Python 3 (ipykernel)",
   "language": "python",
   "name": "python3"
  },
  "language_info": {
   "codemirror_mode": {
    "name": "ipython",
    "version": 3
   },
   "file_extension": ".py",
   "mimetype": "text/x-python",
   "name": "python",
   "nbconvert_exporter": "python",
   "pygments_lexer": "ipython3",
   "version": "3.9.13"
  }
 },
 "nbformat": 4,
 "nbformat_minor": 5
}
