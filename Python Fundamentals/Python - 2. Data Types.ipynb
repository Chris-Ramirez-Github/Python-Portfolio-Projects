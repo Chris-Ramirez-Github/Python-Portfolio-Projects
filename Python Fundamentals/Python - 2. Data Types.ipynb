{
 "cells": [
  {
   "cell_type": "markdown",
   "id": "71b7edc8",
   "metadata": {},
   "source": [
    "# Data Types in Python"
   ]
  },
  {
   "cell_type": "code",
   "execution_count": 1,
   "id": "f2d22bdb",
   "metadata": {},
   "outputs": [
    {
     "data": {
      "text/plain": [
       "bool"
      ]
     },
     "execution_count": 1,
     "metadata": {},
     "output_type": "execute_result"
    }
   ],
   "source": [
    "# Boolean type\n",
    "type(1>5)"
   ]
  },
  {
   "cell_type": "code",
   "execution_count": 2,
   "id": "d3bd1262",
   "metadata": {},
   "outputs": [
    {
     "data": {
      "text/plain": [
       "'Double Quote'"
      ]
     },
     "execution_count": 2,
     "metadata": {},
     "output_type": "execute_result"
    }
   ],
   "source": [
    "# String type\n",
    "\"Double Quote\""
   ]
  },
  {
   "cell_type": "code",
   "execution_count": 3,
   "id": "931e9eac",
   "metadata": {},
   "outputs": [
    {
     "data": {
      "text/plain": [
       "'Single Qoute'"
      ]
     },
     "execution_count": 3,
     "metadata": {},
     "output_type": "execute_result"
    }
   ],
   "source": [
    "'Single Qoute'"
   ]
  },
  {
   "cell_type": "code",
   "execution_count": null,
   "id": "4d8b82f9",
   "metadata": {},
   "outputs": [],
   "source": [
    "# Multiple line Quote"
   ]
  },
  {
   "cell_type": "code",
   "execution_count": 9,
   "id": "a537d209",
   "metadata": {},
   "outputs": [],
   "source": [
    "multiline = \"\"\"\n",
    "Ice cream is one of the most commonly loved desserts on this planet. It has a creamy, sweet taste that many people love. \n",
    "Ice cream is delicious and famous, and it is made from dairy products such as milk and cream, eggs, sugar and sorbet powder. \n",
    "Ice cream can be made using fruits, vegetables, and milk instead of sugar. \n",
    "\n",
    "\"\"\""
   ]
  },
  {
   "cell_type": "code",
   "execution_count": 10,
   "id": "c9c560f5",
   "metadata": {},
   "outputs": [
    {
     "name": "stdout",
     "output_type": "stream",
     "text": [
      "\n",
      "Ice cream is one of the most commonly loved desserts on this planet. It has a creamy, sweet taste that many people love. \n",
      "Ice cream is delicious and famous, and it is made from dairy products such as milk and cream, eggs, sugar and sorbet powder. \n",
      "Ice cream can be made using fruits, vegetables, and milk instead of sugar. \n",
      "\n",
      "\n"
     ]
    }
   ],
   "source": [
    "print(multiline)"
   ]
  },
  {
   "cell_type": "code",
   "execution_count": 11,
   "id": "77cd18d8",
   "metadata": {},
   "outputs": [
    {
     "data": {
      "text/plain": [
       "str"
      ]
     },
     "execution_count": 11,
     "metadata": {},
     "output_type": "execute_result"
    }
   ],
   "source": [
    "type(multiline)"
   ]
  },
  {
   "cell_type": "code",
   "execution_count": null,
   "id": "87f30afb",
   "metadata": {},
   "outputs": [],
   "source": [
    "# List"
   ]
  },
  {
   "cell_type": "code",
   "execution_count": 12,
   "id": "d5104712",
   "metadata": {},
   "outputs": [
    {
     "data": {
      "text/plain": [
       "['Chocolate', 'Vanilla', 'Strawberry']"
      ]
     },
     "execution_count": 12,
     "metadata": {},
     "output_type": "execute_result"
    }
   ],
   "source": [
    "['Chocolate', 'Vanilla', 'Strawberry']"
   ]
  },
  {
   "cell_type": "code",
   "execution_count": 13,
   "id": "0c7fc8ac",
   "metadata": {},
   "outputs": [
    {
     "data": {
      "text/plain": [
       "['Vanilla', 3, ['Scopes', 'Spoon'], True]"
      ]
     },
     "execution_count": 13,
     "metadata": {},
     "output_type": "execute_result"
    }
   ],
   "source": [
    "['Vanilla', 3, ['Scopes', 'Spoon'], True]"
   ]
  },
  {
   "cell_type": "code",
   "execution_count": 14,
   "id": "9bcc88fb",
   "metadata": {},
   "outputs": [],
   "source": [
    "ice_cream = ['Cookie Dough', 'Strawberry','Chocolate']\n",
    "ice_cream.append('Salted Caramel')"
   ]
  },
  {
   "cell_type": "code",
   "execution_count": 15,
   "id": "4dbf6e2d",
   "metadata": {},
   "outputs": [
    {
     "data": {
      "text/plain": [
       "['Cookie Dough', 'Strawberry', 'Chocolate', 'Salted Caramel']"
      ]
     },
     "execution_count": 15,
     "metadata": {},
     "output_type": "execute_result"
    }
   ],
   "source": [
    "ice_cream"
   ]
  },
  {
   "cell_type": "code",
   "execution_count": null,
   "id": "a3392a6b",
   "metadata": {},
   "outputs": [],
   "source": [
    "# Index the first address in ice_cream list"
   ]
  },
  {
   "cell_type": "code",
   "execution_count": 17,
   "id": "0b82d5c3",
   "metadata": {},
   "outputs": [
    {
     "data": {
      "text/plain": [
       "['Butter Pecan', 'Strawberry', 'Chocolate', 'Salted Caramel']"
      ]
     },
     "execution_count": 17,
     "metadata": {},
     "output_type": "execute_result"
    }
   ],
   "source": [
    "ice_cream[0] = 'Butter Pecan'\n",
    "ice_cream"
   ]
  },
  {
   "cell_type": "code",
   "execution_count": null,
   "id": "69d5458b",
   "metadata": {},
   "outputs": [],
   "source": [
    "# Nested List"
   ]
  },
  {
   "cell_type": "code",
   "execution_count": 18,
   "id": "89d233c3",
   "metadata": {},
   "outputs": [],
   "source": [
    "nested_list = ['Vanilla', 3, ['Scoops', 'Spoon'], True]"
   ]
  },
  {
   "cell_type": "code",
   "execution_count": 19,
   "id": "91d4ffd8",
   "metadata": {},
   "outputs": [
    {
     "data": {
      "text/plain": [
       "'Spoon'"
      ]
     },
     "execution_count": 19,
     "metadata": {},
     "output_type": "execute_result"
    }
   ],
   "source": [
    "nested_list[2][1]"
   ]
  },
  {
   "cell_type": "code",
   "execution_count": null,
   "id": "46441b80",
   "metadata": {},
   "outputs": [],
   "source": [
    "# Tuple"
   ]
  },
  {
   "cell_type": "code",
   "execution_count": 20,
   "id": "4d3d4d2b",
   "metadata": {},
   "outputs": [
    {
     "data": {
      "text/plain": [
       "tuple"
      ]
     },
     "execution_count": 20,
     "metadata": {},
     "output_type": "execute_result"
    }
   ],
   "source": [
    "tuple_scoops = (1,2,3,2,1)\n",
    "type(tuple_scoops)"
   ]
  },
  {
   "cell_type": "code",
   "execution_count": null,
   "id": "215e5f7c",
   "metadata": {},
   "outputs": [],
   "source": [
    "# Tuple is an emumeral list (zip code, country name)"
   ]
  },
  {
   "cell_type": "code",
   "execution_count": null,
   "id": "0aabcbeb",
   "metadata": {},
   "outputs": [],
   "source": [
    "# Sets"
   ]
  },
  {
   "cell_type": "code",
   "execution_count": 22,
   "id": "b04bea69",
   "metadata": {},
   "outputs": [
    {
     "data": {
      "text/plain": [
       "set"
      ]
     },
     "execution_count": 22,
     "metadata": {},
     "output_type": "execute_result"
    }
   ],
   "source": [
    "daily_pints = {1,2,3}\n",
    "type(daily_pints)"
   ]
  },
  {
   "cell_type": "code",
   "execution_count": 23,
   "id": "68176337",
   "metadata": {},
   "outputs": [
    {
     "name": "stdout",
     "output_type": "stream",
     "text": [
      "{1, 2, 3}\n"
     ]
    }
   ],
   "source": [
    "print(daily_pints)"
   ]
  },
  {
   "cell_type": "code",
   "execution_count": 24,
   "id": "54513baa",
   "metadata": {},
   "outputs": [],
   "source": [
    "daily_pints_log = {1,2,31,2,3,4,1,2,5,6,3,2}"
   ]
  },
  {
   "cell_type": "code",
   "execution_count": 25,
   "id": "b4142170",
   "metadata": {},
   "outputs": [
    {
     "name": "stdout",
     "output_type": "stream",
     "text": [
      "{1, 2, 3, 4, 5, 6, 31}\n"
     ]
    }
   ],
   "source": [
    "print(daily_pints_log)"
   ]
  },
  {
   "cell_type": "code",
   "execution_count": 27,
   "id": "929a221a",
   "metadata": {},
   "outputs": [],
   "source": [
    "wifes_daily_pints_log = {1,3,5,7,3,24,5,7,3,2,0}"
   ]
  },
  {
   "cell_type": "code",
   "execution_count": null,
   "id": "2c7064c4",
   "metadata": {},
   "outputs": [],
   "source": [
    "# All of the unique value between these two sets"
   ]
  },
  {
   "cell_type": "code",
   "execution_count": 28,
   "id": "8b536a06",
   "metadata": {},
   "outputs": [
    {
     "name": "stdout",
     "output_type": "stream",
     "text": [
      "{0, 1, 2, 3, 4, 5, 6, 7, 24, 31}\n"
     ]
    }
   ],
   "source": [
    "print(daily_pints_log | wifes_daily_pints_log)"
   ]
  },
  {
   "cell_type": "code",
   "execution_count": null,
   "id": "aed27092",
   "metadata": {},
   "outputs": [],
   "source": [
    "# Show what matches in both sets"
   ]
  },
  {
   "cell_type": "code",
   "execution_count": 29,
   "id": "7d3250e5",
   "metadata": {},
   "outputs": [
    {
     "name": "stdout",
     "output_type": "stream",
     "text": [
      "{1, 2, 3, 5}\n"
     ]
    }
   ],
   "source": [
    "print(daily_pints_log & wifes_daily_pints_log)"
   ]
  },
  {
   "cell_type": "code",
   "execution_count": null,
   "id": "6fce98d2",
   "metadata": {},
   "outputs": [],
   "source": [
    "# Show all the value not in both sets"
   ]
  },
  {
   "cell_type": "code",
   "execution_count": 31,
   "id": "517d524d",
   "metadata": {},
   "outputs": [
    {
     "name": "stdout",
     "output_type": "stream",
     "text": [
      "{4, 6, 31}\n"
     ]
    }
   ],
   "source": [
    "print(daily_pints_log - wifes_daily_pints_log)"
   ]
  },
  {
   "cell_type": "code",
   "execution_count": null,
   "id": "43ba5bf0",
   "metadata": {},
   "outputs": [],
   "source": [
    "# Shows only the unique value in each of those sets"
   ]
  },
  {
   "cell_type": "code",
   "execution_count": 32,
   "id": "269fc4a3",
   "metadata": {},
   "outputs": [
    {
     "name": "stdout",
     "output_type": "stream",
     "text": [
      "{0, 4, 6, 7, 24, 31}\n"
     ]
    }
   ],
   "source": [
    "print(daily_pints_log ^ wifes_daily_pints_log)"
   ]
  },
  {
   "cell_type": "code",
   "execution_count": null,
   "id": "36542015",
   "metadata": {},
   "outputs": [],
   "source": []
  }
 ],
 "metadata": {
  "kernelspec": {
   "display_name": "Python 3 (ipykernel)",
   "language": "python",
   "name": "python3"
  },
  "language_info": {
   "codemirror_mode": {
    "name": "ipython",
    "version": 3
   },
   "file_extension": ".py",
   "mimetype": "text/x-python",
   "name": "python",
   "nbconvert_exporter": "python",
   "pygments_lexer": "ipython3",
   "version": "3.9.13"
  }
 },
 "nbformat": 4,
 "nbformat_minor": 5
}
