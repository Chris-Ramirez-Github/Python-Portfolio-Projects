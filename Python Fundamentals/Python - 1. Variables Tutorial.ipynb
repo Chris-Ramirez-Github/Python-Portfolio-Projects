{
 "cells": [
  {
   "cell_type": "markdown",
   "id": "10a6dafd",
   "metadata": {},
   "source": [
    "# Variables in Python"
   ]
  },
  {
   "cell_type": "code",
   "execution_count": 1,
   "id": "e2e957ea",
   "metadata": {},
   "outputs": [
    {
     "name": "stdout",
     "output_type": "stream",
     "text": [
      "22\n"
     ]
    }
   ],
   "source": [
    "x = 22\n",
    "print(x)"
   ]
  },
  {
   "cell_type": "code",
   "execution_count": 7,
   "id": "5ee86432",
   "metadata": {},
   "outputs": [
    {
     "name": "stdout",
     "output_type": "stream",
     "text": [
      "Mint Chocolate Chip\n"
     ]
    }
   ],
   "source": [
    "y = 'Mint Chocolate Chip'\n",
    "print(y)"
   ]
  },
  {
   "cell_type": "code",
   "execution_count": 8,
   "id": "fe709548",
   "metadata": {},
   "outputs": [
    {
     "data": {
      "text/plain": [
       "str"
      ]
     },
     "execution_count": 8,
     "metadata": {},
     "output_type": "execute_result"
    }
   ],
   "source": [
    "type(y)"
   ]
  },
  {
   "cell_type": "code",
   "execution_count": 9,
   "id": "8c4b976d",
   "metadata": {},
   "outputs": [
    {
     "name": "stdout",
     "output_type": "stream",
     "text": [
      "Mint Chocolate Chip\n"
     ]
    }
   ],
   "source": [
    "y = 'Chocolate'\n",
    "\n",
    "Y = 'Mint Chocolate Chip'\n",
    "\n",
    "print(Y)"
   ]
  },
  {
   "cell_type": "code",
   "execution_count": 10,
   "id": "cecacf60",
   "metadata": {},
   "outputs": [
    {
     "name": "stdout",
     "output_type": "stream",
     "text": [
      "Mint Chocolate Chip\n"
     ]
    }
   ],
   "source": [
    "y = 'Chocolate'\n",
    "\n",
    "Y = 'Mint Chocolate Chip'\n",
    "\n",
    "print(Y)"
   ]
  },
  {
   "cell_type": "code",
   "execution_count": 11,
   "id": "cd96d601",
   "metadata": {},
   "outputs": [
    {
     "name": "stdout",
     "output_type": "stream",
     "text": [
      "Chocolate\n",
      "Vanilla\n",
      "Rocky Road\n"
     ]
    }
   ],
   "source": [
    "x,y,z = 'Chocolate', 'Vanilla', 'Rocky Road'\n",
    "print(x)\n",
    "print(y)\n",
    "print(z)"
   ]
  },
  {
   "cell_type": "code",
   "execution_count": 12,
   "id": "1b397380",
   "metadata": {},
   "outputs": [
    {
     "name": "stdout",
     "output_type": "stream",
     "text": [
      "Root Beer Float\n",
      "Root Beer Float\n",
      "Root Beer Float\n"
     ]
    }
   ],
   "source": [
    "x = y = z = 'Root Beer Float'\n",
    "print(x)\n",
    "print(y)\n",
    "print(z)"
   ]
  },
  {
   "cell_type": "code",
   "execution_count": 13,
   "id": "35cd798e",
   "metadata": {},
   "outputs": [
    {
     "name": "stdout",
     "output_type": "stream",
     "text": [
      "Chocolate\n",
      "Vanilla\n",
      "Rocky Road\n"
     ]
    }
   ],
   "source": [
    "ice_cream = ['Chocolate', 'Vanilla', 'Rocky Road']\n",
    "x,y,z, = ice_cream\n",
    "print(x)\n",
    "print(y)\n",
    "print(z)"
   ]
  },
  {
   "cell_type": "code",
   "execution_count": 14,
   "id": "94cb2e65",
   "metadata": {},
   "outputs": [],
   "source": [
    "# Camel Case\n",
    "\n",
    "# Test Variable Case\n",
    "\n",
    "testVariableCase = 'Vanilla Swirl'"
   ]
  },
  {
   "cell_type": "code",
   "execution_count": 15,
   "id": "af253aa9",
   "metadata": {},
   "outputs": [],
   "source": [
    "# Pascal Case\n",
    "\n",
    "# Test Variable Case\n",
    "\n",
    "TestVariableCase = 'Vanilla Swirl'"
   ]
  },
  {
   "cell_type": "code",
   "execution_count": null,
   "id": "8bdf6bd2",
   "metadata": {},
   "outputs": [],
   "source": [
    "# Snake Case \n",
    "\n",
    "# Test Variable Case\n",
    "\n",
    "test_variable_case = 'Vanilla Swirl'"
   ]
  },
  {
   "cell_type": "code",
   "execution_count": null,
   "id": "8853095b",
   "metadata": {},
   "outputs": [],
   "source": [
    "#Valid variable names in Python\n",
    "icecream = 'Chocolate'\n",
    "ice_cream = 'Chocolate'\n",
    "_ice_cream = 'Chocolate'\n",
    "iceCream = 'Chocolate'\n",
    "IceCream = 'Chocolate'\n",
    "iceCream2 = 'Chocolate'"
   ]
  },
  {
   "cell_type": "code",
   "execution_count": null,
   "id": "f7b30bf5",
   "metadata": {},
   "outputs": [],
   "source": [
    "#Invalid variable names in Python\n",
    "2testVar = 'Vanilla'\n",
    "ice-cream2 = 'Vanilla'\n",
    "ice cream2 = 'Vanilla'\n",
    "ice,Cream2 = 'Vanilla'"
   ]
  },
  {
   "cell_type": "code",
   "execution_count": null,
   "id": "66af55ff",
   "metadata": {},
   "outputs": [],
   "source": [
    "# Concatenate Strings in Python"
   ]
  },
  {
   "cell_type": "code",
   "execution_count": 18,
   "id": "44d33f3f",
   "metadata": {},
   "outputs": [
    {
     "name": "stdout",
     "output_type": "stream",
     "text": [
      "Ice cream is my favorite.\n"
     ]
    }
   ],
   "source": [
    "x = 'Ice cream'\n",
    "y = ' is'\n",
    "z = ' my favorite.'\n",
    "\n",
    "print(x+y+z)"
   ]
  },
  {
   "cell_type": "code",
   "execution_count": 20,
   "id": "c9286442",
   "metadata": {},
   "outputs": [
    {
     "name": "stdout",
     "output_type": "stream",
     "text": [
      "Ice cream 2\n"
     ]
    }
   ],
   "source": [
    "x = 'Ice cream'\n",
    "y = 2\n",
    "print(x,y)"
   ]
  },
  {
   "cell_type": "code",
   "execution_count": null,
   "id": "6ca59db0",
   "metadata": {},
   "outputs": [],
   "source": [
    "# Dictionaries with Python\n",
    "# Key/Value Pair"
   ]
  },
  {
   "cell_type": "code",
   "execution_count": 4,
   "id": "ecb74345",
   "metadata": {},
   "outputs": [],
   "source": [
    "dict_cream = {'name': 'Chris Ramirez', 'weekly intake': 5, 'favorite ice creams': ['Vanilla','Chocolate','Pecan']}"
   ]
  },
  {
   "cell_type": "code",
   "execution_count": 2,
   "id": "72faa158",
   "metadata": {},
   "outputs": [
    {
     "data": {
      "text/plain": [
       "dict"
      ]
     },
     "execution_count": 2,
     "metadata": {},
     "output_type": "execute_result"
    }
   ],
   "source": [
    "type(dict_cream)"
   ]
  },
  {
   "cell_type": "code",
   "execution_count": null,
   "id": "b33363ea",
   "metadata": {},
   "outputs": [],
   "source": [
    "# Output the values of dict_cream dictionary"
   ]
  },
  {
   "cell_type": "code",
   "execution_count": 5,
   "id": "79d9ebca",
   "metadata": {},
   "outputs": [
    {
     "data": {
      "text/plain": [
       "dict_values(['Chris Ramirez', 5, ['Vanilla', 'Chocolate', 'Pecan']])"
      ]
     },
     "execution_count": 5,
     "metadata": {},
     "output_type": "execute_result"
    }
   ],
   "source": [
    "dict_cream.values()"
   ]
  },
  {
   "cell_type": "code",
   "execution_count": null,
   "id": "ce8e3f9c",
   "metadata": {},
   "outputs": [],
   "source": [
    "# Output the keys of dict_cream dictionary"
   ]
  },
  {
   "cell_type": "code",
   "execution_count": 6,
   "id": "a0a5d00b",
   "metadata": {},
   "outputs": [
    {
     "data": {
      "text/plain": [
       "dict_keys(['name', 'weekly intake', 'favorite ice creams'])"
      ]
     },
     "execution_count": 6,
     "metadata": {},
     "output_type": "execute_result"
    }
   ],
   "source": [
    "dict_cream.keys()"
   ]
  },
  {
   "cell_type": "code",
   "execution_count": null,
   "id": "858bab40",
   "metadata": {},
   "outputs": [],
   "source": [
    "# Output the items of dict_cream dictionary"
   ]
  },
  {
   "cell_type": "code",
   "execution_count": 7,
   "id": "4b527ef3",
   "metadata": {},
   "outputs": [
    {
     "data": {
      "text/plain": [
       "dict_items([('name', 'Chris Ramirez'), ('weekly intake', 5), ('favorite ice creams', ['Vanilla', 'Chocolate', 'Pecan'])])"
      ]
     },
     "execution_count": 7,
     "metadata": {},
     "output_type": "execute_result"
    }
   ],
   "source": [
    "dict_cream.items()"
   ]
  },
  {
   "cell_type": "code",
   "execution_count": 8,
   "id": "06ba9506",
   "metadata": {},
   "outputs": [
    {
     "data": {
      "text/plain": [
       "'Chris Ramirez'"
      ]
     },
     "execution_count": 8,
     "metadata": {},
     "output_type": "execute_result"
    }
   ],
   "source": [
    "# Print name for dict_cream\n",
    "dict_cream[\"name\"]"
   ]
  },
  {
   "cell_type": "code",
   "execution_count": 9,
   "id": "9b98ea3e",
   "metadata": {},
   "outputs": [],
   "source": [
    "# Update dict_cream dictionary with new values\n",
    "dict_cream.update({'name': 'Catherine Hendrick', 'weeekly intake': 10, 'weight': 100})"
   ]
  },
  {
   "cell_type": "code",
   "execution_count": 10,
   "id": "e47c8897",
   "metadata": {},
   "outputs": [
    {
     "name": "stdout",
     "output_type": "stream",
     "text": [
      "{'name': 'Catherine Hendrick', 'weekly intake': 5, 'favorite ice creams': ['Vanilla', 'Chocolate', 'Pecan'], 'weeekly intake': 10, 'weight': 100}\n"
     ]
    }
   ],
   "source": [
    "print(dict_cream)"
   ]
  },
  {
   "cell_type": "code",
   "execution_count": 11,
   "id": "182ad6dd",
   "metadata": {},
   "outputs": [
    {
     "name": "stdout",
     "output_type": "stream",
     "text": [
      "{'name': 'Catherine Hendrick', 'weekly intake': 5, 'favorite ice creams': ['Vanilla', 'Chocolate', 'Pecan'], 'weeekly intake': 10}\n"
     ]
    }
   ],
   "source": [
    "# Delete weight key with value from dict_cream dictionary\n",
    "del dict_cream['weight']\n",
    "print(dict_cream)"
   ]
  },
  {
   "cell_type": "code",
   "execution_count": null,
   "id": "447e9577",
   "metadata": {},
   "outputs": [],
   "source": []
  }
 ],
 "metadata": {
  "kernelspec": {
   "display_name": "Python 3 (ipykernel)",
   "language": "python",
   "name": "python3"
  },
  "language_info": {
   "codemirror_mode": {
    "name": "ipython",
    "version": 3
   },
   "file_extension": ".py",
   "mimetype": "text/x-python",
   "name": "python",
   "nbconvert_exporter": "python",
   "pygments_lexer": "ipython3",
   "version": "3.9.13"
  }
 },
 "nbformat": 4,
 "nbformat_minor": 5
}
